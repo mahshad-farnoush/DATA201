{
 "cells": [
  {
   "cell_type": "markdown",
   "metadata": {},
   "source": [
    "**Project 1: Credit Card Fraud Detection**"
   ]
  },
  {
   "cell_type": "markdown",
   "metadata": {},
   "source": [
    "data source: https://www.kaggle.com/mishra5001/credit-card"
   ]
  },
  {
   "cell_type": "code",
   "execution_count": 543,
   "metadata": {},
   "outputs": [],
   "source": [
    "import numpy as np\n",
    "import pandas as pd\n",
    "import seaborn as sns\n",
    "import matplotlib.pyplot as plt\n",
    "plt.style.use('ggplot')\n",
    "import sklearn"
   ]
  },
  {
   "cell_type": "code",
   "execution_count": 560,
   "metadata": {},
   "outputs": [
    {
     "data": {
      "text/html": [
       "<div>\n",
       "<style scoped>\n",
       "    .dataframe tbody tr th:only-of-type {\n",
       "        vertical-align: middle;\n",
       "    }\n",
       "\n",
       "    .dataframe tbody tr th {\n",
       "        vertical-align: top;\n",
       "    }\n",
       "\n",
       "    .dataframe thead th {\n",
       "        text-align: right;\n",
       "    }\n",
       "</style>\n",
       "<table border=\"1\" class=\"dataframe\">\n",
       "  <thead>\n",
       "    <tr style=\"text-align: right;\">\n",
       "      <th></th>\n",
       "      <th>SK_ID_CURR</th>\n",
       "      <th>TARGET</th>\n",
       "      <th>NAME_CONTRACT_TYPE</th>\n",
       "      <th>CODE_GENDER</th>\n",
       "      <th>FLAG_OWN_CAR</th>\n",
       "      <th>FLAG_OWN_REALTY</th>\n",
       "      <th>CNT_CHILDREN</th>\n",
       "      <th>AMT_INCOME_TOTAL</th>\n",
       "      <th>AMT_CREDIT</th>\n",
       "      <th>AMT_ANNUITY</th>\n",
       "      <th>...</th>\n",
       "      <th>FLAG_DOCUMENT_18</th>\n",
       "      <th>FLAG_DOCUMENT_19</th>\n",
       "      <th>FLAG_DOCUMENT_20</th>\n",
       "      <th>FLAG_DOCUMENT_21</th>\n",
       "      <th>AMT_REQ_CREDIT_BUREAU_HOUR</th>\n",
       "      <th>AMT_REQ_CREDIT_BUREAU_DAY</th>\n",
       "      <th>AMT_REQ_CREDIT_BUREAU_WEEK</th>\n",
       "      <th>AMT_REQ_CREDIT_BUREAU_MON</th>\n",
       "      <th>AMT_REQ_CREDIT_BUREAU_QRT</th>\n",
       "      <th>AMT_REQ_CREDIT_BUREAU_YEAR</th>\n",
       "    </tr>\n",
       "  </thead>\n",
       "  <tbody>\n",
       "    <tr>\n",
       "      <th>0</th>\n",
       "      <td>100002</td>\n",
       "      <td>1</td>\n",
       "      <td>Cash loans</td>\n",
       "      <td>M</td>\n",
       "      <td>N</td>\n",
       "      <td>Y</td>\n",
       "      <td>0</td>\n",
       "      <td>202500.0</td>\n",
       "      <td>406597.5</td>\n",
       "      <td>24700.5</td>\n",
       "      <td>...</td>\n",
       "      <td>0</td>\n",
       "      <td>0</td>\n",
       "      <td>0</td>\n",
       "      <td>0</td>\n",
       "      <td>0.0</td>\n",
       "      <td>0.0</td>\n",
       "      <td>0.0</td>\n",
       "      <td>0.0</td>\n",
       "      <td>0.0</td>\n",
       "      <td>1.0</td>\n",
       "    </tr>\n",
       "    <tr>\n",
       "      <th>1</th>\n",
       "      <td>100003</td>\n",
       "      <td>0</td>\n",
       "      <td>Cash loans</td>\n",
       "      <td>F</td>\n",
       "      <td>N</td>\n",
       "      <td>N</td>\n",
       "      <td>0</td>\n",
       "      <td>270000.0</td>\n",
       "      <td>1293502.5</td>\n",
       "      <td>35698.5</td>\n",
       "      <td>...</td>\n",
       "      <td>0</td>\n",
       "      <td>0</td>\n",
       "      <td>0</td>\n",
       "      <td>0</td>\n",
       "      <td>0.0</td>\n",
       "      <td>0.0</td>\n",
       "      <td>0.0</td>\n",
       "      <td>0.0</td>\n",
       "      <td>0.0</td>\n",
       "      <td>0.0</td>\n",
       "    </tr>\n",
       "    <tr>\n",
       "      <th>2</th>\n",
       "      <td>100004</td>\n",
       "      <td>0</td>\n",
       "      <td>Revolving loans</td>\n",
       "      <td>M</td>\n",
       "      <td>Y</td>\n",
       "      <td>Y</td>\n",
       "      <td>0</td>\n",
       "      <td>67500.0</td>\n",
       "      <td>135000.0</td>\n",
       "      <td>6750.0</td>\n",
       "      <td>...</td>\n",
       "      <td>0</td>\n",
       "      <td>0</td>\n",
       "      <td>0</td>\n",
       "      <td>0</td>\n",
       "      <td>0.0</td>\n",
       "      <td>0.0</td>\n",
       "      <td>0.0</td>\n",
       "      <td>0.0</td>\n",
       "      <td>0.0</td>\n",
       "      <td>0.0</td>\n",
       "    </tr>\n",
       "    <tr>\n",
       "      <th>3</th>\n",
       "      <td>100006</td>\n",
       "      <td>0</td>\n",
       "      <td>Cash loans</td>\n",
       "      <td>F</td>\n",
       "      <td>N</td>\n",
       "      <td>Y</td>\n",
       "      <td>0</td>\n",
       "      <td>135000.0</td>\n",
       "      <td>312682.5</td>\n",
       "      <td>29686.5</td>\n",
       "      <td>...</td>\n",
       "      <td>0</td>\n",
       "      <td>0</td>\n",
       "      <td>0</td>\n",
       "      <td>0</td>\n",
       "      <td>NaN</td>\n",
       "      <td>NaN</td>\n",
       "      <td>NaN</td>\n",
       "      <td>NaN</td>\n",
       "      <td>NaN</td>\n",
       "      <td>NaN</td>\n",
       "    </tr>\n",
       "    <tr>\n",
       "      <th>4</th>\n",
       "      <td>100007</td>\n",
       "      <td>0</td>\n",
       "      <td>Cash loans</td>\n",
       "      <td>M</td>\n",
       "      <td>N</td>\n",
       "      <td>Y</td>\n",
       "      <td>0</td>\n",
       "      <td>121500.0</td>\n",
       "      <td>513000.0</td>\n",
       "      <td>21865.5</td>\n",
       "      <td>...</td>\n",
       "      <td>0</td>\n",
       "      <td>0</td>\n",
       "      <td>0</td>\n",
       "      <td>0</td>\n",
       "      <td>0.0</td>\n",
       "      <td>0.0</td>\n",
       "      <td>0.0</td>\n",
       "      <td>0.0</td>\n",
       "      <td>0.0</td>\n",
       "      <td>0.0</td>\n",
       "    </tr>\n",
       "  </tbody>\n",
       "</table>\n",
       "<p>5 rows × 122 columns</p>\n",
       "</div>"
      ],
      "text/plain": [
       "   SK_ID_CURR  TARGET NAME_CONTRACT_TYPE CODE_GENDER FLAG_OWN_CAR  \\\n",
       "0      100002       1         Cash loans           M            N   \n",
       "1      100003       0         Cash loans           F            N   \n",
       "2      100004       0    Revolving loans           M            Y   \n",
       "3      100006       0         Cash loans           F            N   \n",
       "4      100007       0         Cash loans           M            N   \n",
       "\n",
       "  FLAG_OWN_REALTY  CNT_CHILDREN  AMT_INCOME_TOTAL  AMT_CREDIT  AMT_ANNUITY  \\\n",
       "0               Y             0          202500.0    406597.5      24700.5   \n",
       "1               N             0          270000.0   1293502.5      35698.5   \n",
       "2               Y             0           67500.0    135000.0       6750.0   \n",
       "3               Y             0          135000.0    312682.5      29686.5   \n",
       "4               Y             0          121500.0    513000.0      21865.5   \n",
       "\n",
       "   ...  FLAG_DOCUMENT_18 FLAG_DOCUMENT_19 FLAG_DOCUMENT_20 FLAG_DOCUMENT_21  \\\n",
       "0  ...                 0                0                0                0   \n",
       "1  ...                 0                0                0                0   \n",
       "2  ...                 0                0                0                0   \n",
       "3  ...                 0                0                0                0   \n",
       "4  ...                 0                0                0                0   \n",
       "\n",
       "  AMT_REQ_CREDIT_BUREAU_HOUR AMT_REQ_CREDIT_BUREAU_DAY  \\\n",
       "0                        0.0                       0.0   \n",
       "1                        0.0                       0.0   \n",
       "2                        0.0                       0.0   \n",
       "3                        NaN                       NaN   \n",
       "4                        0.0                       0.0   \n",
       "\n",
       "   AMT_REQ_CREDIT_BUREAU_WEEK  AMT_REQ_CREDIT_BUREAU_MON  \\\n",
       "0                         0.0                        0.0   \n",
       "1                         0.0                        0.0   \n",
       "2                         0.0                        0.0   \n",
       "3                         NaN                        NaN   \n",
       "4                         0.0                        0.0   \n",
       "\n",
       "   AMT_REQ_CREDIT_BUREAU_QRT  AMT_REQ_CREDIT_BUREAU_YEAR  \n",
       "0                        0.0                         1.0  \n",
       "1                        0.0                         0.0  \n",
       "2                        0.0                         0.0  \n",
       "3                        NaN                         NaN  \n",
       "4                        0.0                         0.0  \n",
       "\n",
       "[5 rows x 122 columns]"
      ]
     },
     "execution_count": 560,
     "metadata": {},
     "output_type": "execute_result"
    }
   ],
   "source": [
    "data = pd.read_csv('application_data.csv')\n",
    "data.head()"
   ]
  },
  {
   "cell_type": "code",
   "execution_count": 158,
   "metadata": {},
   "outputs": [
    {
     "data": {
      "text/plain": [
       "(307511, 122)"
      ]
     },
     "execution_count": 158,
     "metadata": {},
     "output_type": "execute_result"
    }
   ],
   "source": [
    "data.shape"
   ]
  },
  {
   "cell_type": "code",
   "execution_count": 159,
   "metadata": {},
   "outputs": [
    {
     "data": {
      "text/plain": [
       "SK_ID_CURR                      int64\n",
       "TARGET                          int64\n",
       "NAME_CONTRACT_TYPE             object\n",
       "CODE_GENDER                    object\n",
       "FLAG_OWN_CAR                   object\n",
       "                               ...   \n",
       "AMT_REQ_CREDIT_BUREAU_DAY     float64\n",
       "AMT_REQ_CREDIT_BUREAU_WEEK    float64\n",
       "AMT_REQ_CREDIT_BUREAU_MON     float64\n",
       "AMT_REQ_CREDIT_BUREAU_QRT     float64\n",
       "AMT_REQ_CREDIT_BUREAU_YEAR    float64\n",
       "Length: 122, dtype: object"
      ]
     },
     "execution_count": 159,
     "metadata": {},
     "output_type": "execute_result"
    }
   ],
   "source": [
    "data.dtypes"
   ]
  },
  {
   "cell_type": "code",
   "execution_count": 160,
   "metadata": {},
   "outputs": [
    {
     "data": {
      "text/plain": [
       "float64    65\n",
       "int64      41\n",
       "object     16\n",
       "dtype: int64"
      ]
     },
     "execution_count": 160,
     "metadata": {},
     "output_type": "execute_result"
    }
   ],
   "source": [
    "data.dtypes.value_counts()"
   ]
  },
  {
   "cell_type": "markdown",
   "metadata": {},
   "source": [
    "**The Target Variable**"
   ]
  },
  {
   "cell_type": "code",
   "execution_count": 533,
   "metadata": {},
   "outputs": [
    {
     "name": "stdout",
     "output_type": "stream",
     "text": [
      "(24825, 123)\n",
      "(282686, 123)\n",
      "24825\n"
     ]
    }
   ],
   "source": [
    "# number of defaults and non-defaults\n",
    "\n",
    "default = data[data.TARGET==1]\n",
    "non_default = data[data.TARGET==0]\n",
    "\n",
    "print(default.shape)\n",
    "print(non_default.shape)\n",
    "\n",
    "# or\n",
    "print(data.TARGET.sum())"
   ]
  },
  {
   "cell_type": "code",
   "execution_count": 534,
   "metadata": {},
   "outputs": [
    {
     "name": "stdout",
     "output_type": "stream",
     "text": [
      "Percentage of defaults: 8.07 %\n",
      "Percentage of non-defaults: 91.93 %\n"
     ]
    }
   ],
   "source": [
    "# proportion of defaults\n",
    "percent_default = len(default) / len(data) * 100\n",
    "print('Percentage of defaults:', round(percent_default, 2), '%')\n",
    "\n",
    "# proportion of non-defaults\n",
    "percent_non_default = len(non_default) / len(data) * 100\n",
    "print('Percentage of non-defaults:', round(percent_non_default, 2), '%')"
   ]
  },
  {
   "cell_type": "code",
   "execution_count": 395,
   "metadata": {},
   "outputs": [
    {
     "data": {
      "image/png": "[encoded data removed]",
      "text/plain": [
       "<Figure size 432x288 with 1 Axes>"
      ]
     },
     "metadata": {},
     "output_type": "display_data"
    }
   ],
   "source": [
    "# distribution of defaults and non-defaults\n",
    "default_status = sns.countplot(x='TARGET', data=data)\n",
    "plt.xlabel('Default Status')\n",
    "plt.ylabel('Count')\n",
    "default_status.set_xticklabels(['Non-Default', 'Default'])\n",
    "plt.title('Distribution of the Target Variable')\n",
    "plt.show()"
   ]
  },
  {
   "cell_type": "code",
   "execution_count": 164,
   "metadata": {},
   "outputs": [
    {
     "name": "stdout",
     "output_type": "stream",
     "text": [
      "Percentage of defaults: 8.07 %\n",
      "Percentage of non-defaults: 91.93 %\n"
     ]
    }
   ],
   "source": []
  },
  {
   "cell_type": "markdown",
   "metadata": {},
   "source": [
    "\n",
    "**Missing Values**"
   ]
  },
  {
   "cell_type": "code",
   "execution_count": 165,
   "metadata": {},
   "outputs": [
    {
     "data": {
      "text/plain": [
       "SK_ID_CURR                        0\n",
       "TARGET                            0\n",
       "NAME_CONTRACT_TYPE                0\n",
       "CODE_GENDER                       0\n",
       "FLAG_OWN_CAR                      0\n",
       "                              ...  \n",
       "AMT_REQ_CREDIT_BUREAU_DAY     41519\n",
       "AMT_REQ_CREDIT_BUREAU_WEEK    41519\n",
       "AMT_REQ_CREDIT_BUREAU_MON     41519\n",
       "AMT_REQ_CREDIT_BUREAU_QRT     41519\n",
       "AMT_REQ_CREDIT_BUREAU_YEAR    41519\n",
       "Length: 122, dtype: int64"
      ]
     },
     "execution_count": 165,
     "metadata": {},
     "output_type": "execute_result"
    }
   ],
   "source": [
    "total_na = data.isnull().sum()\n",
    "total_na"
   ]
  },
  {
   "cell_type": "code",
   "execution_count": 562,
   "metadata": {},
   "outputs": [
    {
     "data": {
      "text/html": [
       "<div>\n",
       "<style scoped>\n",
       "    .dataframe tbody tr th:only-of-type {\n",
       "        vertical-align: middle;\n",
       "    }\n",
       "\n",
       "    .dataframe tbody tr th {\n",
       "        vertical-align: top;\n",
       "    }\n",
       "\n",
       "    .dataframe thead th {\n",
       "        text-align: right;\n",
       "    }\n",
       "</style>\n",
       "<table border=\"1\" class=\"dataframe\">\n",
       "  <thead>\n",
       "    <tr style=\"text-align: right;\">\n",
       "      <th></th>\n",
       "      <th>Total NA</th>\n",
       "      <th>Percent NA</th>\n",
       "    </tr>\n",
       "  </thead>\n",
       "  <tbody>\n",
       "    <tr>\n",
       "      <th>COMMONAREA_MEDI</th>\n",
       "      <td>214865</td>\n",
       "      <td>69.872297</td>\n",
       "    </tr>\n",
       "    <tr>\n",
       "      <th>COMMONAREA_AVG</th>\n",
       "      <td>214865</td>\n",
       "      <td>69.872297</td>\n",
       "    </tr>\n",
       "    <tr>\n",
       "      <th>COMMONAREA_MODE</th>\n",
       "      <td>214865</td>\n",
       "      <td>69.872297</td>\n",
       "    </tr>\n",
       "    <tr>\n",
       "      <th>NONLIVINGAPARTMENTS_MODE</th>\n",
       "      <td>213514</td>\n",
       "      <td>69.432963</td>\n",
       "    </tr>\n",
       "    <tr>\n",
       "      <th>NONLIVINGAPARTMENTS_AVG</th>\n",
       "      <td>213514</td>\n",
       "      <td>69.432963</td>\n",
       "    </tr>\n",
       "    <tr>\n",
       "      <th>NONLIVINGAPARTMENTS_MEDI</th>\n",
       "      <td>213514</td>\n",
       "      <td>69.432963</td>\n",
       "    </tr>\n",
       "    <tr>\n",
       "      <th>FONDKAPREMONT_MODE</th>\n",
       "      <td>210295</td>\n",
       "      <td>68.386172</td>\n",
       "    </tr>\n",
       "    <tr>\n",
       "      <th>LIVINGAPARTMENTS_MODE</th>\n",
       "      <td>210199</td>\n",
       "      <td>68.354953</td>\n",
       "    </tr>\n",
       "    <tr>\n",
       "      <th>LIVINGAPARTMENTS_AVG</th>\n",
       "      <td>210199</td>\n",
       "      <td>68.354953</td>\n",
       "    </tr>\n",
       "    <tr>\n",
       "      <th>LIVINGAPARTMENTS_MEDI</th>\n",
       "      <td>210199</td>\n",
       "      <td>68.354953</td>\n",
       "    </tr>\n",
       "  </tbody>\n",
       "</table>\n",
       "</div>"
      ],
      "text/plain": [
       "                          Total NA  Percent NA\n",
       "COMMONAREA_MEDI             214865   69.872297\n",
       "COMMONAREA_AVG              214865   69.872297\n",
       "COMMONAREA_MODE             214865   69.872297\n",
       "NONLIVINGAPARTMENTS_MODE    213514   69.432963\n",
       "NONLIVINGAPARTMENTS_AVG     213514   69.432963\n",
       "NONLIVINGAPARTMENTS_MEDI    213514   69.432963\n",
       "FONDKAPREMONT_MODE          210295   68.386172\n",
       "LIVINGAPARTMENTS_MODE       210199   68.354953\n",
       "LIVINGAPARTMENTS_AVG        210199   68.354953\n",
       "LIVINGAPARTMENTS_MEDI       210199   68.354953"
      ]
     },
     "execution_count": 562,
     "metadata": {},
     "output_type": "execute_result"
    }
   ],
   "source": [
    "percent_na = (total_na / data.isnull().count()) * 100\n",
    "\n",
    "data_concat = pd.concat([total_na, percent_na], axis=1, keys=['Total NA', 'Percent NA'])\n",
    "sorted_data = data_concat.sort_values(by='Percent NA', ascending=False)\n",
    "sorted_data.head(10)"
   ]
  },
  {
   "cell_type": "code",
   "execution_count": 167,
   "metadata": {},
   "outputs": [],
   "source": [
    "# dropping columns with high missing values (threshold of 60 % ?)\n",
    "\n",
    "# drop_cols = sorted_data[sorted_data['Percent NA'] >= 60]\n",
    "# print(drop_cols)\n",
    "\n",
    "# new_sorted_data = sorted_data.drop(drop_cols)\n",
    "# why didn't work?"
   ]
  },
  {
   "cell_type": "code",
   "execution_count": 168,
   "metadata": {},
   "outputs": [],
   "source": [
    "# dropping columns with high missing values (threshold of 33 % ?)\n",
    "missing_cols = percent_na[percent_na >= 33].index\n",
    "data.drop(missing_cols, axis=1, inplace=True)"
   ]
  },
  {
   "cell_type": "code",
   "execution_count": 169,
   "metadata": {},
   "outputs": [
    {
     "data": {
      "text/plain": [
       "(307511, 73)"
      ]
     },
     "execution_count": 169,
     "metadata": {},
     "output_type": "execute_result"
    }
   ],
   "source": [
    "data.shape"
   ]
  },
  {
   "cell_type": "code",
   "execution_count": 170,
   "metadata": {},
   "outputs": [
    {
     "data": {
      "text/plain": [
       "['SK_ID_CURR',\n",
       " 'TARGET',\n",
       " 'NAME_CONTRACT_TYPE',\n",
       " 'CODE_GENDER',\n",
       " 'FLAG_OWN_CAR',\n",
       " 'FLAG_OWN_REALTY',\n",
       " 'CNT_CHILDREN',\n",
       " 'AMT_INCOME_TOTAL',\n",
       " 'AMT_CREDIT',\n",
       " 'AMT_ANNUITY',\n",
       " 'AMT_GOODS_PRICE',\n",
       " 'NAME_TYPE_SUITE',\n",
       " 'NAME_INCOME_TYPE',\n",
       " 'NAME_EDUCATION_TYPE',\n",
       " 'NAME_FAMILY_STATUS',\n",
       " 'NAME_HOUSING_TYPE',\n",
       " 'REGION_POPULATION_RELATIVE',\n",
       " 'DAYS_BIRTH',\n",
       " 'DAYS_EMPLOYED',\n",
       " 'DAYS_REGISTRATION',\n",
       " 'DAYS_ID_PUBLISH',\n",
       " 'FLAG_MOBIL',\n",
       " 'FLAG_EMP_PHONE',\n",
       " 'FLAG_WORK_PHONE',\n",
       " 'FLAG_CONT_MOBILE',\n",
       " 'FLAG_PHONE',\n",
       " 'FLAG_EMAIL',\n",
       " 'OCCUPATION_TYPE',\n",
       " 'CNT_FAM_MEMBERS',\n",
       " 'REGION_RATING_CLIENT',\n",
       " 'REGION_RATING_CLIENT_W_CITY',\n",
       " 'WEEKDAY_APPR_PROCESS_START',\n",
       " 'HOUR_APPR_PROCESS_START',\n",
       " 'REG_REGION_NOT_LIVE_REGION',\n",
       " 'REG_REGION_NOT_WORK_REGION',\n",
       " 'LIVE_REGION_NOT_WORK_REGION',\n",
       " 'REG_CITY_NOT_LIVE_CITY',\n",
       " 'REG_CITY_NOT_WORK_CITY',\n",
       " 'LIVE_CITY_NOT_WORK_CITY',\n",
       " 'ORGANIZATION_TYPE',\n",
       " 'EXT_SOURCE_2',\n",
       " 'EXT_SOURCE_3',\n",
       " 'OBS_30_CNT_SOCIAL_CIRCLE',\n",
       " 'DEF_30_CNT_SOCIAL_CIRCLE',\n",
       " 'OBS_60_CNT_SOCIAL_CIRCLE',\n",
       " 'DEF_60_CNT_SOCIAL_CIRCLE',\n",
       " 'DAYS_LAST_PHONE_CHANGE',\n",
       " 'FLAG_DOCUMENT_2',\n",
       " 'FLAG_DOCUMENT_3',\n",
       " 'FLAG_DOCUMENT_4',\n",
       " 'FLAG_DOCUMENT_5',\n",
       " 'FLAG_DOCUMENT_6',\n",
       " 'FLAG_DOCUMENT_7',\n",
       " 'FLAG_DOCUMENT_8',\n",
       " 'FLAG_DOCUMENT_9',\n",
       " 'FLAG_DOCUMENT_10',\n",
       " 'FLAG_DOCUMENT_11',\n",
       " 'FLAG_DOCUMENT_12',\n",
       " 'FLAG_DOCUMENT_13',\n",
       " 'FLAG_DOCUMENT_14',\n",
       " 'FLAG_DOCUMENT_15',\n",
       " 'FLAG_DOCUMENT_16',\n",
       " 'FLAG_DOCUMENT_17',\n",
       " 'FLAG_DOCUMENT_18',\n",
       " 'FLAG_DOCUMENT_19',\n",
       " 'FLAG_DOCUMENT_20',\n",
       " 'FLAG_DOCUMENT_21',\n",
       " 'AMT_REQ_CREDIT_BUREAU_HOUR',\n",
       " 'AMT_REQ_CREDIT_BUREAU_DAY',\n",
       " 'AMT_REQ_CREDIT_BUREAU_WEEK',\n",
       " 'AMT_REQ_CREDIT_BUREAU_MON',\n",
       " 'AMT_REQ_CREDIT_BUREAU_QRT',\n",
       " 'AMT_REQ_CREDIT_BUREAU_YEAR']"
      ]
     },
     "execution_count": 170,
     "metadata": {},
     "output_type": "execute_result"
    }
   ],
   "source": [
    "list(data.columns)"
   ]
  },
  {
   "cell_type": "code",
   "execution_count": 178,
   "metadata": {},
   "outputs": [
    {
     "data": {
      "text/html": [
       "<div>\n",
       "<style scoped>\n",
       "    .dataframe tbody tr th:only-of-type {\n",
       "        vertical-align: middle;\n",
       "    }\n",
       "\n",
       "    .dataframe tbody tr th {\n",
       "        vertical-align: top;\n",
       "    }\n",
       "\n",
       "    .dataframe thead th {\n",
       "        text-align: right;\n",
       "    }\n",
       "</style>\n",
       "<table border=\"1\" class=\"dataframe\">\n",
       "  <thead>\n",
       "    <tr style=\"text-align: right;\">\n",
       "      <th></th>\n",
       "      <th>AMT_ANNUITY</th>\n",
       "      <th>AMT_GOODS_PRICE</th>\n",
       "      <th>NAME_TYPE_SUITE</th>\n",
       "      <th>OCCUPATION_TYPE</th>\n",
       "      <th>CNT_FAM_MEMBERS</th>\n",
       "      <th>EXT_SOURCE_2</th>\n",
       "      <th>EXT_SOURCE_3</th>\n",
       "      <th>OBS_30_CNT_SOCIAL_CIRCLE</th>\n",
       "      <th>DEF_30_CNT_SOCIAL_CIRCLE</th>\n",
       "      <th>OBS_60_CNT_SOCIAL_CIRCLE</th>\n",
       "      <th>DEF_60_CNT_SOCIAL_CIRCLE</th>\n",
       "      <th>DAYS_LAST_PHONE_CHANGE</th>\n",
       "      <th>AMT_REQ_CREDIT_BUREAU_HOUR</th>\n",
       "      <th>AMT_REQ_CREDIT_BUREAU_DAY</th>\n",
       "      <th>AMT_REQ_CREDIT_BUREAU_WEEK</th>\n",
       "      <th>AMT_REQ_CREDIT_BUREAU_MON</th>\n",
       "      <th>AMT_REQ_CREDIT_BUREAU_QRT</th>\n",
       "      <th>AMT_REQ_CREDIT_BUREAU_YEAR</th>\n",
       "    </tr>\n",
       "  </thead>\n",
       "  <tbody>\n",
       "    <tr>\n",
       "      <th>0</th>\n",
       "      <td>24700.5</td>\n",
       "      <td>351000.0</td>\n",
       "      <td>Unaccompanied</td>\n",
       "      <td>Laborers</td>\n",
       "      <td>1.0</td>\n",
       "      <td>0.262949</td>\n",
       "      <td>0.139376</td>\n",
       "      <td>2.0</td>\n",
       "      <td>2.0</td>\n",
       "      <td>2.0</td>\n",
       "      <td>2.0</td>\n",
       "      <td>-1134.0</td>\n",
       "      <td>0.0</td>\n",
       "      <td>0.0</td>\n",
       "      <td>0.0</td>\n",
       "      <td>0.0</td>\n",
       "      <td>0.0</td>\n",
       "      <td>1.0</td>\n",
       "    </tr>\n",
       "    <tr>\n",
       "      <th>1</th>\n",
       "      <td>35698.5</td>\n",
       "      <td>1129500.0</td>\n",
       "      <td>Family</td>\n",
       "      <td>Core staff</td>\n",
       "      <td>2.0</td>\n",
       "      <td>0.622246</td>\n",
       "      <td>NaN</td>\n",
       "      <td>1.0</td>\n",
       "      <td>0.0</td>\n",
       "      <td>1.0</td>\n",
       "      <td>0.0</td>\n",
       "      <td>-828.0</td>\n",
       "      <td>0.0</td>\n",
       "      <td>0.0</td>\n",
       "      <td>0.0</td>\n",
       "      <td>0.0</td>\n",
       "      <td>0.0</td>\n",
       "      <td>0.0</td>\n",
       "    </tr>\n",
       "    <tr>\n",
       "      <th>2</th>\n",
       "      <td>6750.0</td>\n",
       "      <td>135000.0</td>\n",
       "      <td>Unaccompanied</td>\n",
       "      <td>Laborers</td>\n",
       "      <td>1.0</td>\n",
       "      <td>0.555912</td>\n",
       "      <td>0.729567</td>\n",
       "      <td>0.0</td>\n",
       "      <td>0.0</td>\n",
       "      <td>0.0</td>\n",
       "      <td>0.0</td>\n",
       "      <td>-815.0</td>\n",
       "      <td>0.0</td>\n",
       "      <td>0.0</td>\n",
       "      <td>0.0</td>\n",
       "      <td>0.0</td>\n",
       "      <td>0.0</td>\n",
       "      <td>0.0</td>\n",
       "    </tr>\n",
       "    <tr>\n",
       "      <th>3</th>\n",
       "      <td>29686.5</td>\n",
       "      <td>297000.0</td>\n",
       "      <td>Unaccompanied</td>\n",
       "      <td>Laborers</td>\n",
       "      <td>2.0</td>\n",
       "      <td>0.650442</td>\n",
       "      <td>NaN</td>\n",
       "      <td>2.0</td>\n",
       "      <td>0.0</td>\n",
       "      <td>2.0</td>\n",
       "      <td>0.0</td>\n",
       "      <td>-617.0</td>\n",
       "      <td>NaN</td>\n",
       "      <td>NaN</td>\n",
       "      <td>NaN</td>\n",
       "      <td>NaN</td>\n",
       "      <td>NaN</td>\n",
       "      <td>NaN</td>\n",
       "    </tr>\n",
       "    <tr>\n",
       "      <th>4</th>\n",
       "      <td>21865.5</td>\n",
       "      <td>513000.0</td>\n",
       "      <td>Unaccompanied</td>\n",
       "      <td>Core staff</td>\n",
       "      <td>1.0</td>\n",
       "      <td>0.322738</td>\n",
       "      <td>NaN</td>\n",
       "      <td>0.0</td>\n",
       "      <td>0.0</td>\n",
       "      <td>0.0</td>\n",
       "      <td>0.0</td>\n",
       "      <td>-1106.0</td>\n",
       "      <td>0.0</td>\n",
       "      <td>0.0</td>\n",
       "      <td>0.0</td>\n",
       "      <td>0.0</td>\n",
       "      <td>0.0</td>\n",
       "      <td>0.0</td>\n",
       "    </tr>\n",
       "    <tr>\n",
       "      <th>...</th>\n",
       "      <td>...</td>\n",
       "      <td>...</td>\n",
       "      <td>...</td>\n",
       "      <td>...</td>\n",
       "      <td>...</td>\n",
       "      <td>...</td>\n",
       "      <td>...</td>\n",
       "      <td>...</td>\n",
       "      <td>...</td>\n",
       "      <td>...</td>\n",
       "      <td>...</td>\n",
       "      <td>...</td>\n",
       "      <td>...</td>\n",
       "      <td>...</td>\n",
       "      <td>...</td>\n",
       "      <td>...</td>\n",
       "      <td>...</td>\n",
       "      <td>...</td>\n",
       "    </tr>\n",
       "    <tr>\n",
       "      <th>307506</th>\n",
       "      <td>27558.0</td>\n",
       "      <td>225000.0</td>\n",
       "      <td>Unaccompanied</td>\n",
       "      <td>Sales staff</td>\n",
       "      <td>1.0</td>\n",
       "      <td>0.681632</td>\n",
       "      <td>NaN</td>\n",
       "      <td>0.0</td>\n",
       "      <td>0.0</td>\n",
       "      <td>0.0</td>\n",
       "      <td>0.0</td>\n",
       "      <td>-273.0</td>\n",
       "      <td>NaN</td>\n",
       "      <td>NaN</td>\n",
       "      <td>NaN</td>\n",
       "      <td>NaN</td>\n",
       "      <td>NaN</td>\n",
       "      <td>NaN</td>\n",
       "    </tr>\n",
       "    <tr>\n",
       "      <th>307507</th>\n",
       "      <td>12001.5</td>\n",
       "      <td>225000.0</td>\n",
       "      <td>Unaccompanied</td>\n",
       "      <td>NaN</td>\n",
       "      <td>1.0</td>\n",
       "      <td>0.115992</td>\n",
       "      <td>NaN</td>\n",
       "      <td>0.0</td>\n",
       "      <td>0.0</td>\n",
       "      <td>0.0</td>\n",
       "      <td>0.0</td>\n",
       "      <td>0.0</td>\n",
       "      <td>NaN</td>\n",
       "      <td>NaN</td>\n",
       "      <td>NaN</td>\n",
       "      <td>NaN</td>\n",
       "      <td>NaN</td>\n",
       "      <td>NaN</td>\n",
       "    </tr>\n",
       "    <tr>\n",
       "      <th>307508</th>\n",
       "      <td>29979.0</td>\n",
       "      <td>585000.0</td>\n",
       "      <td>Unaccompanied</td>\n",
       "      <td>Managers</td>\n",
       "      <td>1.0</td>\n",
       "      <td>0.535722</td>\n",
       "      <td>0.218859</td>\n",
       "      <td>6.0</td>\n",
       "      <td>0.0</td>\n",
       "      <td>6.0</td>\n",
       "      <td>0.0</td>\n",
       "      <td>-1909.0</td>\n",
       "      <td>1.0</td>\n",
       "      <td>0.0</td>\n",
       "      <td>0.0</td>\n",
       "      <td>1.0</td>\n",
       "      <td>0.0</td>\n",
       "      <td>1.0</td>\n",
       "    </tr>\n",
       "    <tr>\n",
       "      <th>307509</th>\n",
       "      <td>20205.0</td>\n",
       "      <td>319500.0</td>\n",
       "      <td>Unaccompanied</td>\n",
       "      <td>Laborers</td>\n",
       "      <td>2.0</td>\n",
       "      <td>0.514163</td>\n",
       "      <td>0.661024</td>\n",
       "      <td>0.0</td>\n",
       "      <td>0.0</td>\n",
       "      <td>0.0</td>\n",
       "      <td>0.0</td>\n",
       "      <td>-322.0</td>\n",
       "      <td>0.0</td>\n",
       "      <td>0.0</td>\n",
       "      <td>0.0</td>\n",
       "      <td>0.0</td>\n",
       "      <td>0.0</td>\n",
       "      <td>0.0</td>\n",
       "    </tr>\n",
       "    <tr>\n",
       "      <th>307510</th>\n",
       "      <td>49117.5</td>\n",
       "      <td>675000.0</td>\n",
       "      <td>Unaccompanied</td>\n",
       "      <td>Laborers</td>\n",
       "      <td>2.0</td>\n",
       "      <td>0.708569</td>\n",
       "      <td>0.113922</td>\n",
       "      <td>0.0</td>\n",
       "      <td>0.0</td>\n",
       "      <td>0.0</td>\n",
       "      <td>0.0</td>\n",
       "      <td>-787.0</td>\n",
       "      <td>0.0</td>\n",
       "      <td>0.0</td>\n",
       "      <td>0.0</td>\n",
       "      <td>2.0</td>\n",
       "      <td>0.0</td>\n",
       "      <td>1.0</td>\n",
       "    </tr>\n",
       "  </tbody>\n",
       "</table>\n",
       "<p>307511 rows × 18 columns</p>\n",
       "</div>"
      ],
      "text/plain": [
       "        AMT_ANNUITY  AMT_GOODS_PRICE NAME_TYPE_SUITE OCCUPATION_TYPE  \\\n",
       "0           24700.5         351000.0   Unaccompanied        Laborers   \n",
       "1           35698.5        1129500.0          Family      Core staff   \n",
       "2            6750.0         135000.0   Unaccompanied        Laborers   \n",
       "3           29686.5         297000.0   Unaccompanied        Laborers   \n",
       "4           21865.5         513000.0   Unaccompanied      Core staff   \n",
       "...             ...              ...             ...             ...   \n",
       "307506      27558.0         225000.0   Unaccompanied     Sales staff   \n",
       "307507      12001.5         225000.0   Unaccompanied             NaN   \n",
       "307508      29979.0         585000.0   Unaccompanied        Managers   \n",
       "307509      20205.0         319500.0   Unaccompanied        Laborers   \n",
       "307510      49117.5         675000.0   Unaccompanied        Laborers   \n",
       "\n",
       "        CNT_FAM_MEMBERS  EXT_SOURCE_2  EXT_SOURCE_3  OBS_30_CNT_SOCIAL_CIRCLE  \\\n",
       "0                   1.0      0.262949      0.139376                       2.0   \n",
       "1                   2.0      0.622246           NaN                       1.0   \n",
       "2                   1.0      0.555912      0.729567                       0.0   \n",
       "3                   2.0      0.650442           NaN                       2.0   \n",
       "4                   1.0      0.322738           NaN                       0.0   \n",
       "...                 ...           ...           ...                       ...   \n",
       "307506              1.0      0.681632           NaN                       0.0   \n",
       "307507              1.0      0.115992           NaN                       0.0   \n",
       "307508              1.0      0.535722      0.218859                       6.0   \n",
       "307509              2.0      0.514163      0.661024                       0.0   \n",
       "307510              2.0      0.708569      0.113922                       0.0   \n",
       "\n",
       "        DEF_30_CNT_SOCIAL_CIRCLE  OBS_60_CNT_SOCIAL_CIRCLE  \\\n",
       "0                            2.0                       2.0   \n",
       "1                            0.0                       1.0   \n",
       "2                            0.0                       0.0   \n",
       "3                            0.0                       2.0   \n",
       "4                            0.0                       0.0   \n",
       "...                          ...                       ...   \n",
       "307506                       0.0                       0.0   \n",
       "307507                       0.0                       0.0   \n",
       "307508                       0.0                       6.0   \n",
       "307509                       0.0                       0.0   \n",
       "307510                       0.0                       0.0   \n",
       "\n",
       "        DEF_60_CNT_SOCIAL_CIRCLE  DAYS_LAST_PHONE_CHANGE  \\\n",
       "0                            2.0                 -1134.0   \n",
       "1                            0.0                  -828.0   \n",
       "2                            0.0                  -815.0   \n",
       "3                            0.0                  -617.0   \n",
       "4                            0.0                 -1106.0   \n",
       "...                          ...                     ...   \n",
       "307506                       0.0                  -273.0   \n",
       "307507                       0.0                     0.0   \n",
       "307508                       0.0                 -1909.0   \n",
       "307509                       0.0                  -322.0   \n",
       "307510                       0.0                  -787.0   \n",
       "\n",
       "        AMT_REQ_CREDIT_BUREAU_HOUR  AMT_REQ_CREDIT_BUREAU_DAY  \\\n",
       "0                              0.0                        0.0   \n",
       "1                              0.0                        0.0   \n",
       "2                              0.0                        0.0   \n",
       "3                              NaN                        NaN   \n",
       "4                              0.0                        0.0   \n",
       "...                            ...                        ...   \n",
       "307506                         NaN                        NaN   \n",
       "307507                         NaN                        NaN   \n",
       "307508                         1.0                        0.0   \n",
       "307509                         0.0                        0.0   \n",
       "307510                         0.0                        0.0   \n",
       "\n",
       "        AMT_REQ_CREDIT_BUREAU_WEEK  AMT_REQ_CREDIT_BUREAU_MON  \\\n",
       "0                              0.0                        0.0   \n",
       "1                              0.0                        0.0   \n",
       "2                              0.0                        0.0   \n",
       "3                              NaN                        NaN   \n",
       "4                              0.0                        0.0   \n",
       "...                            ...                        ...   \n",
       "307506                         NaN                        NaN   \n",
       "307507                         NaN                        NaN   \n",
       "307508                         0.0                        1.0   \n",
       "307509                         0.0                        0.0   \n",
       "307510                         0.0                        2.0   \n",
       "\n",
       "        AMT_REQ_CREDIT_BUREAU_QRT  AMT_REQ_CREDIT_BUREAU_YEAR  \n",
       "0                             0.0                         1.0  \n",
       "1                             0.0                         0.0  \n",
       "2                             0.0                         0.0  \n",
       "3                             NaN                         NaN  \n",
       "4                             0.0                         0.0  \n",
       "...                           ...                         ...  \n",
       "307506                        NaN                         NaN  \n",
       "307507                        NaN                         NaN  \n",
       "307508                        0.0                         1.0  \n",
       "307509                        0.0                         0.0  \n",
       "307510                        0.0                         1.0  \n",
       "\n",
       "[307511 rows x 18 columns]"
      ]
     },
     "execution_count": 178,
     "metadata": {},
     "output_type": "execute_result"
    }
   ],
   "source": [
    "data.loc[:, data.isnull().any()]"
   ]
  },
  {
   "cell_type": "code",
   "execution_count": 185,
   "metadata": {},
   "outputs": [],
   "source": [
    "data['AMT_ANNUITY'].fillna(data['AMT_ANNUITY'].mean(), inplace=True)\n",
    "data['AMT_GOODS_PRICE'].fillna(data['AMT_GOODS_PRICE'].mean(), inplace=True)\n",
    "data['CNT_FAM_MEMBERS'].fillna(data['CNT_FAM_MEMBERS'].mean(), inplace=True)\n",
    "data['EXT_SOURCE_2'].fillna(data['EXT_SOURCE_2'].mean(), inplace=True)\n",
    "data['EXT_SOURCE_3'].fillna(data['EXT_SOURCE_3'].mean(), inplace=True)\n",
    "data['OBS_30_CNT_SOCIAL_CIRCLE'].fillna(data['OBS_30_CNT_SOCIAL_CIRCLE'].mean(), inplace=True)\n",
    "data['DEF_30_CNT_SOCIAL_CIRCLE'].fillna(data['DEF_30_CNT_SOCIAL_CIRCLE'].mean(), inplace=True)\n",
    "data['OBS_60_CNT_SOCIAL_CIRCLE'].fillna(data['OBS_60_CNT_SOCIAL_CIRCLE'].mean(), inplace=True)\n",
    "data['DEF_60_CNT_SOCIAL_CIRCLE'].fillna(data['DEF_60_CNT_SOCIAL_CIRCLE'].mean(), inplace=True)\n",
    "data['DAYS_LAST_PHONE_CHANGE'].fillna(data['DAYS_LAST_PHONE_CHANGE'].mean(), inplace=True)\n",
    "data['AMT_REQ_CREDIT_BUREAU_HOUR'].fillna(data['AMT_REQ_CREDIT_BUREAU_HOUR'].mean(), inplace=True)\n",
    "data['AMT_REQ_CREDIT_BUREAU_DAY'].fillna(data['AMT_REQ_CREDIT_BUREAU_DAY'].mean(), inplace=True)\n",
    "data['AMT_REQ_CREDIT_BUREAU_WEEK'].fillna(data['AMT_REQ_CREDIT_BUREAU_WEEK'].mean(), inplace=True)\n",
    "data['AMT_REQ_CREDIT_BUREAU_MON'].fillna(data['AMT_REQ_CREDIT_BUREAU_MON'].mean(), inplace=True)\n",
    "data['AMT_REQ_CREDIT_BUREAU_QRT'].fillna(data['AMT_REQ_CREDIT_BUREAU_QRT'].mean(), inplace=True)\n",
    "data['AMT_REQ_CREDIT_BUREAU_YEAR'].fillna(data['AMT_REQ_CREDIT_BUREAU_YEAR'].mean(), inplace=True)\n"
   ]
  },
  {
   "cell_type": "code",
   "execution_count": null,
   "metadata": {},
   "outputs": [],
   "source": [
    "for col_name in data:\n",
    "    data['col_name'].fillna(data['col_na'].mean(), inplace=True)"
   ]
  },
  {
   "cell_type": "code",
   "execution_count": 186,
   "metadata": {},
   "outputs": [
    {
     "data": {
      "text/html": [
       "<div>\n",
       "<style scoped>\n",
       "    .dataframe tbody tr th:only-of-type {\n",
       "        vertical-align: middle;\n",
       "    }\n",
       "\n",
       "    .dataframe tbody tr th {\n",
       "        vertical-align: top;\n",
       "    }\n",
       "\n",
       "    .dataframe thead th {\n",
       "        text-align: right;\n",
       "    }\n",
       "</style>\n",
       "<table border=\"1\" class=\"dataframe\">\n",
       "  <thead>\n",
       "    <tr style=\"text-align: right;\">\n",
       "      <th></th>\n",
       "      <th>NAME_TYPE_SUITE</th>\n",
       "      <th>OCCUPATION_TYPE</th>\n",
       "    </tr>\n",
       "  </thead>\n",
       "  <tbody>\n",
       "    <tr>\n",
       "      <th>0</th>\n",
       "      <td>Unaccompanied</td>\n",
       "      <td>Laborers</td>\n",
       "    </tr>\n",
       "    <tr>\n",
       "      <th>1</th>\n",
       "      <td>Family</td>\n",
       "      <td>Core staff</td>\n",
       "    </tr>\n",
       "    <tr>\n",
       "      <th>2</th>\n",
       "      <td>Unaccompanied</td>\n",
       "      <td>Laborers</td>\n",
       "    </tr>\n",
       "    <tr>\n",
       "      <th>3</th>\n",
       "      <td>Unaccompanied</td>\n",
       "      <td>Laborers</td>\n",
       "    </tr>\n",
       "    <tr>\n",
       "      <th>4</th>\n",
       "      <td>Unaccompanied</td>\n",
       "      <td>Core staff</td>\n",
       "    </tr>\n",
       "    <tr>\n",
       "      <th>...</th>\n",
       "      <td>...</td>\n",
       "      <td>...</td>\n",
       "    </tr>\n",
       "    <tr>\n",
       "      <th>307506</th>\n",
       "      <td>Unaccompanied</td>\n",
       "      <td>Sales staff</td>\n",
       "    </tr>\n",
       "    <tr>\n",
       "      <th>307507</th>\n",
       "      <td>Unaccompanied</td>\n",
       "      <td>NaN</td>\n",
       "    </tr>\n",
       "    <tr>\n",
       "      <th>307508</th>\n",
       "      <td>Unaccompanied</td>\n",
       "      <td>Managers</td>\n",
       "    </tr>\n",
       "    <tr>\n",
       "      <th>307509</th>\n",
       "      <td>Unaccompanied</td>\n",
       "      <td>Laborers</td>\n",
       "    </tr>\n",
       "    <tr>\n",
       "      <th>307510</th>\n",
       "      <td>Unaccompanied</td>\n",
       "      <td>Laborers</td>\n",
       "    </tr>\n",
       "  </tbody>\n",
       "</table>\n",
       "<p>307511 rows × 2 columns</p>\n",
       "</div>"
      ],
      "text/plain": [
       "       NAME_TYPE_SUITE OCCUPATION_TYPE\n",
       "0        Unaccompanied        Laborers\n",
       "1               Family      Core staff\n",
       "2        Unaccompanied        Laborers\n",
       "3        Unaccompanied        Laborers\n",
       "4        Unaccompanied      Core staff\n",
       "...                ...             ...\n",
       "307506   Unaccompanied     Sales staff\n",
       "307507   Unaccompanied             NaN\n",
       "307508   Unaccompanied        Managers\n",
       "307509   Unaccompanied        Laborers\n",
       "307510   Unaccompanied        Laborers\n",
       "\n",
       "[307511 rows x 2 columns]"
      ]
     },
     "execution_count": 186,
     "metadata": {},
     "output_type": "execute_result"
    }
   ],
   "source": [
    "data.loc[:, data.isnull().any()]"
   ]
  },
  {
   "cell_type": "code",
   "execution_count": 188,
   "metadata": {},
   "outputs": [
    {
     "data": {
      "text/plain": [
       "Unaccompanied      248526\n",
       "Family              40149\n",
       "Spouse, partner     11370\n",
       "Children             3267\n",
       "Other_B              1770\n",
       "Other_A               866\n",
       "Group of people       271\n",
       "Name: NAME_TYPE_SUITE, dtype: int64"
      ]
     },
     "execution_count": 188,
     "metadata": {},
     "output_type": "execute_result"
    }
   ],
   "source": [
    "data.NAME_TYPE_SUITE.value_counts()"
   ]
  },
  {
   "cell_type": "code",
   "execution_count": 190,
   "metadata": {},
   "outputs": [],
   "source": [
    "# replacing NA values in NAME_TYPE_SUITE with random elements from the column\n",
    "suite_list = ['Unaccompanied','Family','Spouse, partner', 'Children','Other_B', 'Other_A', 'Group of people']\n",
    "data['NAME_TYPE_SUITE'] = data['NAME_TYPE_SUITE'].fillna(pd.Series(np.random.choice(suite_list, size=len(data.index))))\n",
    "# Series? # size? # .index?"
   ]
  },
  {
   "cell_type": "code",
   "execution_count": 193,
   "metadata": {},
   "outputs": [
    {
     "data": {
      "text/plain": [
       "Laborers                 55186\n",
       "Sales staff              32102\n",
       "Core staff               27570\n",
       "Managers                 21371\n",
       "Drivers                  18603\n",
       "High skill tech staff    11380\n",
       "Accountants               9813\n",
       "Medicine staff            8537\n",
       "Security staff            6721\n",
       "Cooking staff             5946\n",
       "Cleaning staff            4653\n",
       "Private service staff     2652\n",
       "Low-skill Laborers        2093\n",
       "Waiters/barmen staff      1348\n",
       "Secretaries               1305\n",
       "Realty agents              751\n",
       "HR staff                   563\n",
       "IT staff                   526\n",
       "Name: OCCUPATION_TYPE, dtype: int64"
      ]
     },
     "execution_count": 193,
     "metadata": {},
     "output_type": "execute_result"
    }
   ],
   "source": [
    "data.OCCUPATION_TYPE.value_counts()"
   ]
  },
  {
   "cell_type": "code",
   "execution_count": 222,
   "metadata": {},
   "outputs": [],
   "source": [
    "# replacing NA values in OCCUPATION_TYPE with random elements from the column\n",
    "\n",
    "occupation_list = np.unique(list(data['OCCUPATION_TYPE']))\n",
    "\n",
    "# removing 'nan' from the list ?\n",
    "#occupation_list_pd = pd.DataFrame(occupation_list, columns=['OCCUPATION_TYPE'])\n",
    "#occ_list = occupation_list_pd.loc[occupation_list_pd['OCCUPATION_TYPE'] != 'nan']\n",
    "# occupation_list is an ndarray - how to take out 'nan' from the array?\n",
    "\n",
    "occ_type_list = ['Accountants', 'Cleaning staff', 'Cooking staff', 'Core staff',\n",
    "       'Drivers', 'HR staff', 'High skill tech staff', 'IT staff',\n",
    "       'Laborers', 'Low-skill Laborers', 'Managers', 'Medicine staff',\n",
    "       'Private service staff', 'Realty agents', 'Sales staff',\n",
    "       'Secretaries', 'Security staff', 'Waiters/barmen staff']\n",
    "\n",
    "data['OCCUPATION_TYPE'] = data['OCCUPATION_TYPE'].fillna(pd.Series(np.random.choice(occ_type_list, size=len(data.index))))"
   ]
  },
  {
   "cell_type": "code",
   "execution_count": 223,
   "metadata": {},
   "outputs": [
    {
     "data": {
      "text/plain": [
       "SK_ID_CURR                    0\n",
       "TARGET                        0\n",
       "NAME_CONTRACT_TYPE            0\n",
       "CODE_GENDER                   0\n",
       "FLAG_OWN_CAR                  0\n",
       "                             ..\n",
       "AMT_REQ_CREDIT_BUREAU_DAY     0\n",
       "AMT_REQ_CREDIT_BUREAU_WEEK    0\n",
       "AMT_REQ_CREDIT_BUREAU_MON     0\n",
       "AMT_REQ_CREDIT_BUREAU_QRT     0\n",
       "AMT_REQ_CREDIT_BUREAU_YEAR    0\n",
       "Length: 73, dtype: int64"
      ]
     },
     "execution_count": 223,
     "metadata": {},
     "output_type": "execute_result"
    }
   ],
   "source": [
    "data.isnull().sum()"
   ]
  },
  {
   "cell_type": "code",
   "execution_count": null,
   "metadata": {},
   "outputs": [],
   "source": []
  },
  {
   "cell_type": "markdown",
   "metadata": {},
   "source": [
    "**Looking at some columns that might better explain the target variable:**"
   ]
  },
  {
   "cell_type": "markdown",
   "metadata": {},
   "source": [
    "**Gender**"
   ]
  },
  {
   "cell_type": "code",
   "execution_count": 75,
   "metadata": {},
   "outputs": [
    {
     "data": {
      "text/plain": [
       "F      202448\n",
       "M      105059\n",
       "XNA         4\n",
       "Name: CODE_GENDER, dtype: int64"
      ]
     },
     "execution_count": 75,
     "metadata": {},
     "output_type": "execute_result"
    }
   ],
   "source": [
    "# gender\n",
    "data['CODE_GENDER'].value_counts()"
   ]
  },
  {
   "cell_type": "code",
   "execution_count": 90,
   "metadata": {},
   "outputs": [
    {
     "name": "stdout",
     "output_type": "stream",
     "text": [
      "F    14170\n",
      "M    10655\n",
      "Name: CODE_GENDER, dtype: int64\n"
     ]
    }
   ],
   "source": [
    "print(default['CODE_GENDER'].value_counts())"
   ]
  },
  {
   "cell_type": "code",
   "execution_count": 91,
   "metadata": {},
   "outputs": [],
   "source": [
    "# male_default = default[default.CODE_GENDER == 'M']\n",
    "# male_default_proportion = (len(male_default) / len(default)) * 100\n",
    "# print('male default:', male_default_proportion, '%')\n",
    "\n",
    "# female_default = default[default.CODE_GENDER == 'F']\n",
    "# female_default_proportion = (len(female_default) / len(default)) * 100\n",
    "# print('female default:', female_default_proportion, '%')"
   ]
  },
  {
   "cell_type": "code",
   "execution_count": 92,
   "metadata": {},
   "outputs": [],
   "source": [
    "# total_male_percent = (len(data[data.CODE_GENDER == 'M']) / len(data)) * 100\n",
    "# print('total male population:', total_male_percent, '%')\n",
    "\n",
    "# total_female_percent = (len(data[data.CODE_GENDER == 'F']) / len(data)) * 100\n",
    "# print('total female population:', total_female_percent, '%')"
   ]
  },
  {
   "cell_type": "code",
   "execution_count": 93,
   "metadata": {},
   "outputs": [],
   "source": [
    "# print(total_female_percent / total_male_percent)\n",
    "# print(female_default_proportion / male_default_proportion)\n",
    "\n",
    "# female population is 1.93 times greater than male population, but female default is 1.33 times greater\n",
    "# than male default, meaning female default is less than male default overall"
   ]
  },
  {
   "cell_type": "code",
   "execution_count": 99,
   "metadata": {},
   "outputs": [
    {
     "name": "stdout",
     "output_type": "stream",
     "text": [
      "male default: 10.14 %\n",
      "female default: 7.0 %\n"
     ]
    }
   ],
   "source": [
    "male = data[data.CODE_GENDER == 'M']\n",
    "male_default = default[default.CODE_GENDER == 'M']\n",
    "male_default_percent = (len(male_default) / len(male)) * 100\n",
    "print('male default:', round(male_default_percent,2), '%')\n",
    "\n",
    "female = data[data.CODE_GENDER == 'F']\n",
    "female_default = default[default.CODE_GENDER == 'F']\n",
    "female_default_percent = (len(female_default) / len(female)) * 100\n",
    "print('female default:', round(female_default_percent,2), '%')"
   ]
  },
  {
   "cell_type": "code",
   "execution_count": 554,
   "metadata": {},
   "outputs": [
    {
     "data": {
      "image/png": "[encoded data removed]",
      "text/plain": [
       "<Figure size 576x288 with 2 Axes>"
      ]
     },
     "metadata": {},
     "output_type": "display_data"
    }
   ],
   "source": [
    "fig, (ax1,ax2) = plt.subplots(1, 2, figsize=(8,4))\n",
    "sns.countplot(ax=ax1, x='CODE_GENDER', data=default)\n",
    "sns.countplot(ax=ax2, x='CODE_GENDER', data=non_default)\n",
    "ax1.set_xlabel('Gender')\n",
    "ax2.set_xlabel('Gender')\n",
    "ax1.set_title('Default')\n",
    "ax2.set_title('Non-Default')\n",
    "plt.tight_layout()\n",
    "\n",
    "# number of females taking loan is higher than number of males"
   ]
  },
  {
   "cell_type": "markdown",
   "metadata": {},
   "source": [
    "**Age**"
   ]
  },
  {
   "cell_type": "code",
   "execution_count": 465,
   "metadata": {},
   "outputs": [
    {
     "data": {
      "image/png": "[encoded data removed]",
      "text/plain": [
       "<Figure size 432x288 with 1 Axes>"
      ]
     },
     "metadata": {},
     "output_type": "display_data"
    }
   ],
   "source": [
    "data['AGE'] = data['DAYS_BIRTH'] / -365\n",
    "plt.hist(data['AGE'], bins=15)\n",
    "plt.title('Histogram of Age')\n",
    "plt.xlabel('Age')\n",
    "plt.show()\n",
    "\n",
    "# normally ditributed"
   ]
  },
  {
   "cell_type": "code",
   "execution_count": 459,
   "metadata": {},
   "outputs": [
    {
     "data": {
      "image/png": "[encoded data removed]",
      "text/plain": [
       "<Figure size 576x288 with 2 Axes>"
      ]
     },
     "metadata": {},
     "output_type": "display_data"
    }
   ],
   "source": [
    "# comparing the age distribution for default and non-default groups\n",
    "\n",
    "fig, (ax1,ax2) = plt.subplots(1,2, figsize=(8,4))\n",
    "\n",
    "#sns.histplot(ax=ax1, x='AGE', data=default, bins=15)\n",
    "#sns.histplot(ax=ax2, x='AGE', data=non_default, bins=15)\n",
    "\n",
    "ax1.hist(x='AGE', data=default, bins=15)\n",
    "ax2.hist(x='AGE', data=non_default, bins=15)\n",
    "ax1.set_xlabel('Age')\n",
    "ax2.set_xlabel('Age')\n",
    "ax1.set_title('Default')\n",
    "ax2.set_title('Non-Default')\n",
    "plt.tight_layout()\n",
    "plt.show()\n"
   ]
  },
  {
   "cell_type": "markdown",
   "metadata": {},
   "source": [
    "**Income**"
   ]
  },
  {
   "cell_type": "code",
   "execution_count": 100,
   "metadata": {},
   "outputs": [
    {
     "data": {
      "text/plain": [
       "count    3.075110e+05\n",
       "mean     1.687979e+05\n",
       "std      2.371231e+05\n",
       "min      2.565000e+04\n",
       "25%      1.125000e+05\n",
       "50%      1.471500e+05\n",
       "75%      2.025000e+05\n",
       "max      1.170000e+08\n",
       "Name: AMT_INCOME_TOTAL, dtype: float64"
      ]
     },
     "execution_count": 100,
     "metadata": {},
     "output_type": "execute_result"
    }
   ],
   "source": [
    "# income\n",
    "data['AMT_INCOME_TOTAL'].describe()"
   ]
  },
  {
   "cell_type": "code",
   "execution_count": 396,
   "metadata": {},
   "outputs": [
    {
     "name": "stdout",
     "output_type": "stream",
     "text": [
      "low income default: 8.479974350068133 %\n",
      "high income default: 7.44002126669768 %\n"
     ]
    }
   ],
   "source": [
    "# dividing the sample into two groups by income (below the mean and above the mean)\n",
    "\n",
    "half_low_income = data[data.AMT_INCOME_TOTAL < data.AMT_INCOME_TOTAL.mean()]\n",
    "half_high_income = data[data.AMT_INCOME_TOTAL >= data.AMT_INCOME_TOTAL.mean()]\n",
    "\n",
    "low_income_default = data[(data.TARGET == 1) & (data.AMT_INCOME_TOTAL < data.AMT_INCOME_TOTAL.mean())]\n",
    "high_income_default = data[(data.TARGET == 1) & (data.AMT_INCOME_TOTAL >= data.AMT_INCOME_TOTAL.mean())]\n",
    "\n",
    "low_income_default_percent = (len(low_income_default) / len(half_low_income)) * 100\n",
    "high_income_default_percent = (len(high_income_default) / len(half_high_income)) * 100\n",
    "\n",
    "print('low income default:', low_income_default_percent, '%')\n",
    "print('high income default:', high_income_default_percent, '%')"
   ]
  },
  {
   "cell_type": "code",
   "execution_count": 224,
   "metadata": {},
   "outputs": [
    {
     "name": "stdout",
     "output_type": "stream",
     "text": [
      "low income default: 8.22754783708794 %\n",
      "high income default: 5.624779526394247 %\n"
     ]
    }
   ],
   "source": [
    "# defining low and high income using 1st and 3rd quantiles\n",
    "\n",
    "low_income = data[data.AMT_INCOME_TOTAL < data.AMT_INCOME_TOTAL.quantile(0.25)]\n",
    "high_income = data[data.AMT_INCOME_TOTAL >= data.AMT_INCOME_TOTAL.quantile(0.75)]\n",
    "\n",
    "low_income_default = data[(data.TARGET == 1) & (data.AMT_INCOME_TOTAL < data.AMT_INCOME_TOTAL.quantile(0.25))]\n",
    "high_income_default = data[(data.TARGET == 1) & (data.AMT_INCOME_TOTAL > data.AMT_INCOME_TOTAL.quantile(0.75))]\n",
    "\n",
    "low_income_default_percent = (len(low_income_default) / len(low_income)) * 100\n",
    "high_income_default_percent = (len(high_income_default) / len(high_income)) * 100\n",
    "\n",
    "print('low income default:', low_income_default_percent, '%')\n",
    "print('high income default:', high_income_default_percent, '%')\n",
    "\n",
    "# loan default is higher among low income population"
   ]
  },
  {
   "cell_type": "code",
   "execution_count": 555,
   "metadata": {},
   "outputs": [
    {
     "data": {
      "image/png": "[encoded data removed]",
      "text/plain": [
       "<Figure size 432x288 with 1 Axes>"
      ]
     },
     "metadata": {},
     "output_type": "display_data"
    }
   ],
   "source": [
    "income = sns.boxplot(x='TARGET', y='AMT_INCOME_TOTAL', data=data)\n",
    "plt.title('Income by Default Status')\n",
    "plt.xlabel('Default Status')\n",
    "plt.ylabel('Income')\n",
    "income.set_xticklabels(['Non-Default', 'Default'])\n",
    "plt.ylim([0,400000])\n",
    "plt.show()"
   ]
  },
  {
   "cell_type": "code",
   "execution_count": null,
   "metadata": {},
   "outputs": [],
   "source": []
  },
  {
   "cell_type": "code",
   "execution_count": 556,
   "metadata": {},
   "outputs": [],
   "source": [
    "#data.groupby(['NAME_CONTRACT_TYPE', 'TARGET']).size().reset_index(name='COUNT')"
   ]
  },
  {
   "cell_type": "code",
   "execution_count": 557,
   "metadata": {},
   "outputs": [],
   "source": [
    "# Contract Type\n",
    "# fig, (ax1, ax2) = plt.subplots(1, 2, figsize=(8,4))\n",
    "# sns.countplot(ax=ax1, x='NAME_CONTRACT_TYPE', data=default)\n",
    "# sns.countplot(ax=ax2, x='NAME_CONTRACT_TYPE', data=non_default)\n",
    "# ax1.set_xlabel('Contract Type')\n",
    "# ax2.set_xlabel('Contract Type')\n",
    "# ax1.set_title('Default')\n",
    "# ax2.set_title('Non-Default')\n",
    "# plt.tight_layout()"
   ]
  },
  {
   "cell_type": "code",
   "execution_count": 558,
   "metadata": {},
   "outputs": [],
   "source": [
    "# cont_type = sns.catplot('TARGET', hue='NAME_CONTRACT_TYPE', data=data, kind='count')\n",
    "# cont_type.set_axis_labels('Default Status', 'Count')\n",
    "# cont_type.set_xticklabels(['Non-Default', 'Default'])"
   ]
  },
  {
   "cell_type": "code",
   "execution_count": 260,
   "metadata": {},
   "outputs": [
    {
     "data": {
      "text/plain": [
       "<seaborn.axisgrid.FacetGrid at 0x1a296cc350>"
      ]
     },
     "execution_count": 260,
     "metadata": {},
     "output_type": "execute_result"
    },
    {
     "data": {
      "image/png": "[encoded data removed]",
      "text/plain": [
       "<Figure size 506x360 with 1 Axes>"
      ]
     },
     "metadata": {},
     "output_type": "display_data"
    }
   ],
   "source": [
    "# Income Type\n",
    "inc_type = sns.catplot('TARGET', hue='NAME_INCOME_TYPE', data=data, kind='count')\n",
    "inc_type.fig.suptitle('Count by Default Status and Income Type')\n",
    "inc_type.set_axis_labels('Default Status', 'Count')\n",
    "inc_type.set_xticklabels(['Non-Default', 'Default'])"
   ]
  },
  {
   "cell_type": "code",
   "execution_count": null,
   "metadata": {},
   "outputs": [],
   "source": [
    "#sns.set_palette('Set1')\n",
    "#PRGn, Paired, PuBu_r, RdBu, RdBu_r, RdGy, Set1, Set2, bwr_r, coolwarm_r, gist_ncar, gist_ncar_r, gist_rainbow, gist_rainbow_r, gist_stern, gist_stern_r, gist_yarg, gist_yarg_r, gnuplot, gnuplot2, gnuplot2_r, gnuplot_r, gray, gray_r, hot, hot_r, hsv, hsv_r, icefire, icefire_r, inferno, inferno_r, jet, jet_r, magma, magma_r, mako, mako_r, nipy_spectral, nipy_spectral_r, ocean, ocean_r, pink, pink_r, plasma, plasma_r, prism, prism_r, rainbow, rainbow_r, rocket, rocket_r, seismic, seismic_r, spring, spring_r, summer, summer_r, tab10, tab10_r, tab20, tab20_r, tab20b, tab20b_r, tab20c, tab20c_r, terrain, terrain_r, twilight, twilight_r, twilight_shifted, twilight_shifted_r, viridis, viridis_r, vlag, vlag_r, winter, winter_r"
   ]
  },
  {
   "cell_type": "markdown",
   "metadata": {},
   "source": [
    "**Non-Parametric Inference of the Median for Age**"
   ]
  },
  {
   "cell_type": "code",
   "execution_count": 553,
   "metadata": {},
   "outputs": [
    {
     "name": "stdout",
     "output_type": "stream",
     "text": [
      "original sample median: 43.3041095890411\n",
      "boot samples median: 43.3013698630137\n"
     ]
    }
   ],
   "source": [
    "# size of the original sample is about 10% of the data\n",
    "original_sample = np.random.choice(data['AGE'], 30000, replace=False)\n",
    "print('original sample median:', np.median(original_sample))\n",
    "\n",
    "median_boot_samples = []\n",
    "for i in range(1000):\n",
    "    boot_sample = np.random.choice(original_sample, 30000)\n",
    "    median_boot_samples.append(np.median(boot_sample))\n",
    "\n",
    "print('boot samples median:', np.median(median_boot_samples))"
   ]
  },
  {
   "cell_type": "code",
   "execution_count": 541,
   "metadata": {},
   "outputs": [
    {
     "data": {
      "text/plain": [
       "array([42.81770548, 43.29863014])"
      ]
     },
     "execution_count": 541,
     "metadata": {},
     "output_type": "execute_result"
    }
   ],
   "source": [
    "conf_int = np.percentile(median_boot_samples, [2.5,97.5])\n",
    "conf_int"
   ]
  },
  {
   "cell_type": "code",
   "execution_count": 542,
   "metadata": {},
   "outputs": [
    {
     "data": {
      "image/png": "[encoded data removed]",
      "text/plain": [
       "<Figure size 432x288 with 1 Axes>"
      ]
     },
     "metadata": {},
     "output_type": "display_data"
    }
   ],
   "source": [
    "mbs = sns.kdeplot(median_boot_samples)\n",
    "mbs.set_xlabel('Median Age')\n",
    "mbs.set_ylabel('Density')\n",
    "mbs.set_title('Sampling Distribution of Median Age')\n",
    "for endpoint in conf_int:\n",
    "    plt.axvline(endpoint, color='blue')"
   ]
  },
  {
   "cell_type": "code",
   "execution_count": 511,
   "metadata": {},
   "outputs": [
    {
     "name": "stdout",
     "output_type": "stream",
     "text": [
      "originial default sample median: 39.13\n",
      "default boot samples median: 39.12\n"
     ]
    }
   ],
   "source": [
    "# fix later\n",
    "# bootstrapping of the default data\n",
    "\n",
    "print('originial default sample median:', round(np.median(default['AGE']), 2))\n",
    "\n",
    "default_sample_size = round(len(default) / 10)\n",
    "\n",
    "default_median_boot_samples = []\n",
    "for i in range(default_sample_size):\n",
    "    default_boot_sample = np.random.choice(default['AGE'], default_sample_size)\n",
    "    default_median_boot_samples.append(np.median(default_boot_sample))\n",
    "        \n",
    "print('default boot samples median:', round(np.median(default_median_boot_samples),2))"
   ]
  },
  {
   "cell_type": "code",
   "execution_count": 517,
   "metadata": {},
   "outputs": [
    {
     "name": "stdout",
     "output_type": "stream",
     "text": [
      "originial non-default sample median: 43.5\n",
      "non-default boot samples median: 43.5\n"
     ]
    }
   ],
   "source": [
    "# bootstrapping of the non_default data\n",
    "\n",
    "print('originial non-default sample median:', round(np.median(non_default['AGE']), 2))\n",
    "\n",
    "non_default_sample_size = round(len(non_default) / 10)\n",
    "\n",
    "non_default_median_boot_samples = []\n",
    "for i in range(non_default_sample_size):\n",
    "    non_default_boot_sample = np.random.choice(non_default['AGE'], non_default_sample_size)\n",
    "    non_default_median_boot_samples.append(np.median(non_default_boot_sample))\n",
    "        \n",
    "print('non-default boot samples median:', round(np.median(non_default_median_boot_samples),2))"
   ]
  },
  {
   "cell_type": "code",
   "execution_count": 532,
   "metadata": {},
   "outputs": [
    {
     "data": {
      "text/plain": [
       "Text(0, 0.5, 'Density')"
      ]
     },
     "execution_count": 532,
     "metadata": {},
     "output_type": "execute_result"
    },
    {
     "data": {
      "image/png": "[encoded data removed]",
      "text/plain": [
       "<Figure size 576x288 with 2 Axes>"
      ]
     },
     "metadata": {},
     "output_type": "display_data"
    }
   ],
   "source": [
    "fig, (ax1,ax2) = plt.subplots(1,2, figsize=(8,4))\n",
    "sns.kdeplot(default_median_boot_samples, ax=ax1)\n",
    "sns.kdeplot(non_default_median_boot_samples, ax=ax2)\n",
    "ax1.set_xlabel('Default Median Age')\n",
    "ax1.set_ylabel('Density')\n",
    "ax2.set_xlabel('Non-Default Median Age')\n",
    "ax2.set_ylabel('Density')"
   ]
  },
  {
   "cell_type": "code",
   "execution_count": null,
   "metadata": {},
   "outputs": [],
   "source": []
  }
 ],
 "metadata": {
  "kernelspec": {
   "display_name": "Python 3",
   "language": "python",
   "name": "python3"
  },
  "language_info": {
   "codemirror_mode": {
    "name": "ipython",
    "version": 3
   },
   "file_extension": ".py",
   "mimetype": "text/x-python",
   "name": "python",
   "nbconvert_exporter": "python",
   "pygments_lexer": "ipython3",
   "version": "3.7.6"
  }
 },
 "nbformat": 4,
 "nbformat_minor": 4
}
